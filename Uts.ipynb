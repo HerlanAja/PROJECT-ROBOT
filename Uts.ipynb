{
 "cells": [
  {
   "cell_type": "code",
   "execution_count": 3,
   "metadata": {},
   "outputs": [
    {
     "name": "stdout",
     "output_type": "stream",
     "text": [
      "INPUT: Looping For digunakan ketika sudah diketahui batas Awal dan Batas Akhir\n",
      "OUTPUT: 7ooping For digun4k4n k3tik4 sud4h dik3t4hui b4t4s 4w4l d4n B4t4s 4khir\n"
     ]
    }
   ],
   "source": [
    "def kodeKalimat(kalimat):\n",
    "    hasil = ''\n",
    "    for huruf in kalimat:\n",
    "        if huruf == 'a' or huruf == 'A':\n",
    "            hasil += '4'\n",
    "        elif huruf == 'e' or huruf == 'E':\n",
    "            hasil += '3'\n",
    "        elif huruf == 'L':\n",
    "            hasil += '7'\n",
    "        elif huruf == 'S':\n",
    "            hasil += '5'\n",
    "        else:\n",
    "            hasil += huruf\n",
    "    return hasil\n",
    "\n",
    "# Contoh penggunaan\n",
    "kalimat_input = input(\"Masukkan kalimat: \")\n",
    "kalimat_output = sandi_kalimat(kalimat_input)\n",
    "print(\"INPUT:\", kalimat_input)\n",
    "print(\"OUTPUT:\", kalimat_output)\n"
   ]
  },
  {
   "cell_type": "code",
   "execution_count": 7,
   "metadata": {},
   "outputs": [
    {
     "name": "stdout",
     "output_type": "stream",
     "text": [
      "11 bukan bilangan Harshad\n"
     ]
    }
   ],
   "source": [
    "def harshad(n):\n",
    "    # menghitung jumlah digit yang ada pada bilangan\n",
    "    JumlahDigit = sum(int(i) for i in str(n))\n",
    "    #Memerikasa apakah bilangan dapat dibagi oleh jumlah digitnya\n",
    "    return n % JumlahDigit == 0\n",
    "\n",
    "# menguji\n",
    "bilangan = int(input(\"Masukkan bilangan: \"))\n",
    "\n",
    "if harshad(bilangan):\n",
    "    print(bilangan, \"adalah bilangan Harshad\")\n",
    "else:\n",
    "    print(bilangan, \"bukan bilangan Harshad\")"
   ]
  }
 ],
 "metadata": {
  "kernelspec": {
   "display_name": "Python 3",
   "language": "python",
   "name": "python3"
  },
  "language_info": {
   "codemirror_mode": {
    "name": "ipython",
    "version": 3
   },
   "file_extension": ".py",
   "mimetype": "text/x-python",
   "name": "python",
   "nbconvert_exporter": "python",
   "pygments_lexer": "ipython3",
   "version": "3.11.2"
  }
 },
 "nbformat": 4,
 "nbformat_minor": 2
}
